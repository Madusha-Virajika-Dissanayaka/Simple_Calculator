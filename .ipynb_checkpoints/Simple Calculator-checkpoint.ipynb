{
 "cells": [
  {
   "cell_type": "markdown",
   "id": "e16ad17f",
   "metadata": {},
   "source": [
    "### Simple Calculator"
   ]
  },
  {
   "cell_type": "code",
   "execution_count": null,
   "id": "29132e19",
   "metadata": {},
   "outputs": [],
   "source": [
    "\n",
    "# Function to add two numbers\n",
    "def add(num1, num2):\n",
    "    return num1 + num2\n",
    " \n",
    "# Function to subtract two numbers\n",
    "def subtract(num1, num2):\n",
    "    return num1 - num2\n",
    " \n",
    "# Function to multiply two numbers\n",
    "def multiply(num1, num2):\n",
    "    return num1 * num2\n",
    " \n",
    "# Function to divide two numbers\n",
    "def divide(num1, num2):\n",
    "    return num1 / num2\n",
    " \n",
    "print(\"Please select operation -\\n\" \\\n",
    "        \"a -Add\\n\" \\\n",
    "        \"s -Subtract\\n\" \\\n",
    "        \"m -Multiply\\n\" \\\n",
    "        \"d -Divide\\n\")\n",
    " \n",
    " \n",
    "# Take input from the user\n",
    "select = input(\"Select operations form a,s,m,d :\")\n",
    " \n",
    "number_1 = int(input(\"Enter first number: \"))\n",
    "number_2 = int(input(\"Enter second number: \"))\n",
    " \n",
    "if select == \"a\":\n",
    "    print(add(number_1, number_2))\n",
    " \n",
    "elif select == \"s\":\n",
    "    print(subtract(number_1, number_2))\n",
    " \n",
    "elif select == \"m\":\n",
    "    print(multiply(number_1, number_2))\n",
    " \n",
    "elif select == \"d\":\n",
    "    print(divide(number_1, number_2))\n",
    "else:\n",
    "    print(\"Invalid input\")"
   ]
  }
 ],
 "metadata": {
  "kernelspec": {
   "display_name": "Python 3 (ipykernel)",
   "language": "python",
   "name": "python3"
  },
  "language_info": {
   "codemirror_mode": {
    "name": "ipython",
    "version": 3
   },
   "file_extension": ".py",
   "mimetype": "text/x-python",
   "name": "python",
   "nbconvert_exporter": "python",
   "pygments_lexer": "ipython3",
   "version": "3.8.9"
  }
 },
 "nbformat": 4,
 "nbformat_minor": 5
}
